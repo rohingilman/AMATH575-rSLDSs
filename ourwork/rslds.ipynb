{
 "cells": [
  {
   "attachments": {},
   "cell_type": "markdown",
   "metadata": {},
   "source": [
    "# rSLDS code"
   ]
  },
  {
   "attachments": {},
   "cell_type": "markdown",
   "metadata": {},
   "source": [
    "### Imports"
   ]
  },
  {
   "cell_type": "code",
   "execution_count": null,
   "metadata": {},
   "outputs": [],
   "source": [
    "import matplotlib.pyplot as plt\n",
    "import numpy as np\n",
    "from scipy.integrate import solve_ivp"
   ]
  },
  {
   "attachments": {},
   "cell_type": "markdown",
   "metadata": {},
   "source": [
    "### NASCAR"
   ]
  },
  {
   "cell_type": "code",
   "execution_count": null,
   "metadata": {},
   "outputs": [],
   "source": [
    "# Simulate the \"nascar\" data\n",
    "def make_nascar_model():\n",
    "    As = [random_rotation(D_latent, np.pi/24.),\n",
    "      random_rotation(D_latent, np.pi/48.)]\n",
    "\n",
    "    # Set the center points for each system\n",
    "    centers = [np.array([+2.0, 0.]),\n",
    "           np.array([-2.0, 0.])]\n",
    "    bs = [-(A - np.eye(D_latent)).dot(center) for A, center in zip(As, centers)]\n",
    "\n",
    "    # Add a \"right\" state\n",
    "    As.append(np.eye(D_latent))\n",
    "    bs.append(np.array([+0.1, 0.]))\n",
    "\n",
    "    # Add a \"right\" state\n",
    "    As.append(np.eye(D_latent))\n",
    "    bs.append(np.array([-0.25, 0.]))\n",
    "\n",
    "    # Construct multinomial regression to divvy up the space\n",
    "    w1, b1 = np.array([+1.0, 0.0]), np.array([-2.0])   # x + b > 0 -> x > -b\n",
    "    w2, b2 = np.array([-1.0, 0.0]), np.array([-2.0])   # -x + b > 0 -> x < b\n",
    "    w3, b3 = np.array([0.0, +1.0]), np.array([0.0])    # y > 0\n",
    "    w4, b4 = np.array([0.0, -1.0]), np.array([0.0])    # y < 0\n",
    "    Rs = np.row_stack((100*w1, 100*w2, 10*w3,10*w4))\n",
    "    r = np.concatenate((100*b1, 100*b2, 10*b3, 10*b4))\n",
    "    \n",
    "    true_rslds = ssm.SLDS(D_obs, K, D_latent, \n",
    "                      transitions=\"recurrent_only\",\n",
    "                      dynamics=\"diagonal_gaussian\",\n",
    "                      emissions=\"gaussian_orthog\",\n",
    "                      single_subspace=True)\n",
    "    true_rslds.dynamics.mu_init = np.tile(np.array([[0, 1]]), (K, 1))\n",
    "    true_rslds.dynamics.sigmasq_init = 1e-4 * np.ones((K, D_latent))\n",
    "    true_rslds.dynamics.As = np.array(As)\n",
    "    true_rslds.dynamics.bs = np.array(bs)\n",
    "    true_rslds.dynamics.sigmasq = 1e-4 * np.ones((K, D_latent))\n",
    "    \n",
    "    true_rslds.transitions.Rs = Rs\n",
    "    true_rslds.transitions.r = r\n",
    "    \n",
    "    true_rslds.emissions.inv_etas = np.log(1e-2) * np.ones((1, D_obs))\n",
    "    return true_rslds\n",
    "\n",
    "# Sample from the model\n",
    "true_rslds = make_nascar_model()\n",
    "z, x, y = true_rslds.sample(T=T)\n",
    "print(x.shape)\n",
    "print(x)"
   ]
  },
  {
   "attachments": {},
   "cell_type": "markdown",
   "metadata": {},
   "source": [
    "### Van der Pol System"
   ]
  },
  {
   "attachments": {},
   "cell_type": "markdown",
   "metadata": {},
   "source": [
    "We consider the system $$\\begin{cases}\\dot{x} = y\\\\ \\dot{y} =\\mu(1-x^2)y-x\\end{cases}$$"
   ]
  },
  {
   "attachments": {},
   "cell_type": "markdown",
   "metadata": {},
   "source": [
    "#### Van der Pol single trajectory"
   ]
  },
  {
   "cell_type": "code",
   "execution_count": null,
   "metadata": {},
   "outputs": [],
   "source": [
    "np.random.seed(1)\n",
    "MU=1\n",
    "IC=[0,2.2] #[y0,y_prime]\n",
    "\n",
    "\n",
    "def vdp(t,y):\n",
    "    dydt= np.array([y[1], MU*(1-y[0]**2)*y[1]-y[0]])\n",
    "    return dydt\n",
    "t_eval = np.arange(0, 200, 0.1)\n",
    "sol = solve_ivp(vdp, [0, 200], IC, t_eval=t_eval)\n",
    "plt.figure(figsize = (12, 4))\n",
    "plt.plot(sol.y[0], sol.y[1])\n",
    "plt.xlabel('t')\n",
    "plt.ylabel('S(t)')\n",
    "y = sol.y\n",
    "y0 = np.array(y[0])\n",
    "y1 = np.array(y[1])\n",
    "noise0=np.random.normal(loc=0.0, scale=1.0, size=np.shape(y0))\n",
    "noise1=np.random.normal(loc=0.0, scale=1.0, size=np.shape(y0))\n",
    "\n",
    "#vdp_data = np.transpose(np.vstack((y0,y1,y0+y1+noise0,y0-y1+noise1)))\n",
    "vdp_data = np.transpose(np.vstack((y0,y1,noise0,noise1)))"
   ]
  },
  {
   "cell_type": "markdown",
   "metadata": {},
   "source": [
    "#### Van der Pol Multiple Trajectories"
   ]
  },
  {
   "cell_type": "code",
   "execution_count": null,
   "metadata": {
    "vscode": {
     "languageId": "julia"
    }
   },
   "outputs": [],
   "source": [
    "np.random.seed(1)\n",
    "MU = 1\n",
    "\n",
    "def vdp(t, y):\n",
    "    dydt = np.array([y[1], MU*(1-y[0]**2)*y[1]-y[0]])\n",
    "    return dydt\n",
    "\n",
    "tmax = 200\n",
    "\n",
    "num_points = 2  # Number of initial conditions\n",
    "x_values = np.linspace(-4, 4, num_points)\n",
    "y_values = np.linspace(-4, 4, num_points)\n",
    "\n",
    "initial_conditions = []\n",
    "\n",
    "for x in x_values:\n",
    "    for y in y_values:\n",
    "        initial_conditions.append([x, y])\n",
    "\n",
    "t_eval = np.arange(0, tmax, 0.1)\n",
    "# initial_conditions = [[2, 0], [1, 0], [3, 0], [4,0]]  # Add more initial conditions as needed\n",
    "\n",
    "vdp_data = []\n",
    "\n",
    "for IC in initial_conditions:\n",
    "    sol = solve_ivp(vdp, [0, tmax], IC, t_eval=t_eval)\n",
    "    y0 = sol.y[0]\n",
    "    y1 = sol.y[1]\n",
    "    noise0 = np.random.normal(loc=0.0, scale=1.0, size=np.shape(y0))\n",
    "    noise1 = np.random.normal(loc=0.0, scale=1.0, size=np.shape(y0))\n",
    "    data = np.transpose(np.vstack((y0, y1, noise0, noise1)))\n",
    "    vdp_data.append(data)\n",
    "\n",
    "vdp_data = np.concatenate(vdp_data, axis=0)\n",
    "\n",
    "plt.figure(figsize=(12, 4))\n",
    "for i in range(len(initial_conditions)):\n",
    "    plt.plot(vdp_data[i*t_eval.size:(i+1)*t_eval.size, 0], vdp_data[i*t_eval.size:(i+1)*t_eval.size, 1], label=f'IC: {initial_conditions[i]}')\n",
    "plt.xlabel('t')\n",
    "plt.ylabel('S(t)')\n",
    "#plt.legend()\n",
    "plt.show()\n",
    "\n",
    "y = vdp_data[:,0:2]"
   ]
  },
  {
   "attachments": {},
   "cell_type": "markdown",
   "metadata": {},
   "source": [
    "### Lorenz"
   ]
  },
  {
   "cell_type": "code",
   "execution_count": null,
   "metadata": {
    "vscode": {
     "languageId": "julia"
    }
   },
   "outputs": [],
   "source": [
    "import numpy as np\n",
    "from scipy.integrate import solve_ivp\n",
    "\n",
    "def lorenz_deriv(t, xyz, sigma=10, beta=8/3, rho=28):\n",
    "    x, y, z = xyz\n",
    "    return [sigma * (y - x), x * (rho - z) - y, x * y - beta * z]\n",
    "\n",
    "def generate_lorenz_data(num_samples=1000, dt=0.01, sigma=10, beta=8/3, rho=28):\n",
    "    t_span = np.arange(0, num_samples * dt, dt)\n",
    "    initial_conditions = [-8, 7, 27]  # Adjust the initial conditions as desired\n",
    "    sol = solve_ivp(lorenz_deriv, [t_span[0], t_span[-1]], initial_conditions, t_eval=t_span, args=(sigma, beta, rho))\n",
    "    return sol.y.T\n",
    "\n",
    "# Generate synthetic Lorenz system data\n",
    "lorn_data = generate_lorenz_data()\n",
    "\n",
    "import matplotlib.pyplot as plt\n",
    "from mpl_toolkits.mplot3d import Axes3D\n",
    "\n",
    "# Create a 3D plot\n",
    "fig = plt.figure()\n",
    "ax = fig.add_subplot(111, projection='3d')\n",
    "\n",
    "# Plot the line\n",
    "ax.plot(data[:,0], data[:,1], data[:,2], color='blue')\n",
    "\n",
    "# Customize the plot\n",
    "ax.set_xlabel('X')\n",
    "ax.set_ylabel('Y')\n",
    "ax.set_zlabel('Z')\n",
    "ax.set_title('Line Plot')\n",
    "\n",
    "# Show the plot\n",
    "plt.show()"
   ]
  },
  {
   "attachments": {},
   "cell_type": "markdown",
   "metadata": {},
   "source": [
    "### Fitting Data"
   ]
  },
  {
   "cell_type": "code",
   "execution_count": null,
   "metadata": {
    "vscode": {
     "languageId": "julia"
    }
   },
   "outputs": [],
   "source": [
    "import os\n",
    "import pickle\n",
    "import copy\n",
    "\n",
    "import autograd.numpy as np\n",
    "import autograd.numpy.random as npr\n",
    "npr.seed(12345)\n",
    "\n",
    "import matplotlib.pyplot as plt\n",
    "from matplotlib import gridspec\n",
    "%matplotlib inline\n",
    "\n",
    "import seaborn as sns\n",
    "color_names = [\"windows blue\", \"red\", \"amber\", \"faded green\"]\n",
    "colors = sns.xkcd_palette(color_names)\n",
    "sns.set_style(\"white\")\n",
    "sns.set_context(\"talk\")\n",
    "\n",
    "import ssm\n",
    "from ssm.util import random_rotation, find_permutation\n",
    "\n",
    "# Helper functions for plotting results\n",
    "def plot_trajectory(z, x, ax=None, ls=\"-\"):\n",
    "    zcps = np.concatenate(([0], np.where(np.diff(z))[0] + 1, [z.size]))\n",
    "    if ax is None:\n",
    "        fig = plt.figure(figsize=(4, 4))\n",
    "        ax = fig.gca()\n",
    "    for start, stop in zip(zcps[:-1], zcps[1:]):\n",
    "        ax.plot(x[start:stop + 1, 0],\n",
    "                x[start:stop + 1, 1],\n",
    "                lw=1, ls=ls,\n",
    "                color=colors[z[start] % len(colors)],\n",
    "                alpha=1.0)\n",
    "        \"\"\"\n",
    "        ax.plot(x[:, 0],\n",
    "                x[:, 1],\n",
    "                lw=1, ls=ls,\n",
    "                alpha=1.0)\n",
    "        \"\"\"\n",
    "    return ax\n",
    "\n",
    "def plot_observations(z, y, ax=None, ls=\"-\", lw=1):\n",
    "\n",
    "    zcps = np.concatenate(([0], np.where(np.diff(z))[0] + 1, [z.size]))\n",
    "    if ax is None:\n",
    "        fig = plt.figure(figsize=(4, 4))\n",
    "        ax = fig.gca()\n",
    "    T, N = y.shape\n",
    "    t = np.arange(T)\n",
    "    for n in range(N):\n",
    "        for start, stop in zip(zcps[:-1], zcps[1:]):\n",
    "            ax.plot(t[start:stop + 1], y[start:stop + 1, n],\n",
    "                    lw=lw, ls=ls,\n",
    "                    color=colors[z[start] % len(colors)],\n",
    "                    alpha=1.0)\n",
    "    return ax\n",
    "\n",
    "\n",
    "def plot_most_likely_dynamics(model,\n",
    "    xlim=(-4, 4), ylim=(-3, 3), nxpts=20, nypts=20,\n",
    "    alpha=0.8, ax=None, figsize=(3, 3)):\n",
    "    \n",
    "    K = model.K\n",
    "    assert model.D == 2\n",
    "    x = np.linspace(*xlim, nxpts)\n",
    "    y = np.linspace(*ylim, nypts)\n",
    "    X, Y = np.meshgrid(x, y)\n",
    "    xy = np.column_stack((X.ravel(), Y.ravel()))\n",
    "\n",
    "    # Get the probability of each state at each xy location\n",
    "    z = np.argmax(xy.dot(model.transitions.Rs.T) + model.transitions.r, axis=1)\n",
    "\n",
    "    if ax is None:\n",
    "        fig = plt.figure(figsize=figsize)\n",
    "        ax = fig.add_subplot(111)\n",
    "\n",
    "    for k, (A, b) in enumerate(zip(model.dynamics.As, model.dynamics.bs)):\n",
    "        dxydt_m = xy.dot(A.T) + b - xy\n",
    "\n",
    "        zk = z == k\n",
    "        if zk.sum(0) > 0:\n",
    "            ax.quiver(xy[zk, 0], xy[zk, 1],\n",
    "                      dxydt_m[zk, 0], dxydt_m[zk, 1],\n",
    "                      color=colors[k % len(colors)], alpha=alpha)\n",
    "\n",
    "    ax.set_xlabel('$x_1$')\n",
    "    ax.set_ylabel('$x_2$')\n",
    "\n",
    "    plt.tight_layout()\n",
    "\n",
    "    return ax"
   ]
  },
  {
   "cell_type": "code",
   "execution_count": null,
   "metadata": {
    "vscode": {
     "languageId": "julia"
    }
   },
   "outputs": [],
   "source": [
    "# Global parameters\n",
    "# T = 100\n",
    "# K = 4\n",
    "# D_obs = 10\n",
    "# D_latent = 2\n",
    "T = 2000\n",
    "K = 4\n",
    "D_obs = 4\n",
    "D_latent = 2\n",
    "\n",
    "#data = np.random.randn(100,10)\n",
    "data = vdp_data\n",
    "#data = lorn_data"
   ]
  },
  {
   "cell_type": "code",
   "execution_count": null,
   "metadata": {
    "vscode": {
     "languageId": "julia"
    }
   },
   "outputs": [],
   "source": [
    "# Fit an rSLDS with its default initialization, using Laplace-EM with a structured variational posterior\n",
    "rslds = ssm.SLDS(D_obs, K, D_latent,\n",
    "             transitions=\"recurrent_only\",\n",
    "             dynamics=\"diagonal_gaussian\",\n",
    "             emissions=\"gaussian_orthog\",\n",
    "             single_subspace=True)\n",
    "rslds.initialize(data)\n",
    "q_elbos_lem, q_lem = rslds.fit(data, method=\"laplace_em\",\n",
    "                               variational_posterior=\"structured_meanfield\",\n",
    "                               initialize=False, num_iters=100, alpha=0.0)\n",
    "xhat_lem = q_lem.mean_continuous_states[0]\n",
    "# rslds.permute(find_permutation(z, rslds.most_likely_states(xhat_lem, data)))\n",
    "zhat_lem = rslds.most_likely_states(xhat_lem, data)\n",
    "\n",
    "# store rslds\n",
    "rslds_lem = copy.deepcopy(rslds)"
   ]
  },
  {
   "cell_type": "code",
   "execution_count": null,
   "metadata": {
    "vscode": {
     "languageId": "julia"
    }
   },
   "outputs": [],
   "source": [
    "# Fit an rSLDS with its default initialization, using BBVI with a structured variational posterior\n",
    "rslds = ssm.SLDS(D_obs, K, D_latent, \n",
    "             transitions=\"recurrent_only\",\n",
    "             dynamics=\"diagonal_gaussian\",\n",
    "             emissions=\"gaussian_orthog\",\n",
    "             single_subspace=True)\n",
    "rslds.initialize(data)\n",
    "\n",
    "q_elbos_bbvi, q_bbvi = rslds.fit(data, method=\"bbvi\",\n",
    "                                 variational_posterior=\"meanfield\",\n",
    "                                 initialize=False, num_iters=100)"
   ]
  },
  {
   "cell_type": "code",
   "execution_count": null,
   "metadata": {
    "vscode": {
     "languageId": "julia"
    }
   },
   "outputs": [],
   "source": [
    "# Get the posterior mean of the continuous states\n",
    "xhat_bbvi = q_bbvi.mean[0]\n",
    "\n",
    "# Find the permutation that matches the true and inferred states\n",
    "#rslds.permute(find_permutation(z, rslds.most_likely_states(xhat_bbvi, y)))\n",
    "#zhat_bbvi = rslds.most_likely_states(xhat_bbvi, y.T)\n",
    "zhat_bbvi = rslds.most_likely_states(xhat_bbvi, vdp_data)"
   ]
  },
  {
   "cell_type": "markdown",
   "metadata": {},
   "source": [
    "### Plots"
   ]
  },
  {
   "cell_type": "code",
   "execution_count": null,
   "metadata": {
    "vscode": {
     "languageId": "julia"
    }
   },
   "outputs": [],
   "source": [
    "plt.figure(figsize=[10,8])\n",
    "ax1 = plt.subplot(221)\n",
    "x=y.T\n",
    "z=(y1>y1.mean()).astype(int)\n",
    "plot_trajectory(z, x, ax=ax1)\n",
    "plt.title(\"True (MU=-1)(y0,y1,noise,noise)\")\n",
    "plt.xlabel('y0')\n",
    "plt.ylabel('y1')\n",
    "ax2 =plt.subplot(222)\n",
    "plot_observations(z[:8000], vdp_data[:8000,:2], ax=ax2)\n",
    "plt.title(\"Observations for first 1000 time steps\")\n",
    "ax3 = plt.subplot(223)\n",
    "plot_trajectory(zhat_bbvi, xhat_bbvi, ax=ax3)\n",
    "plt.title(\"Inferred, BBVI\")\n",
    "ax4 = plt.subplot(224)\n",
    "plot_trajectory(zhat_lem, xhat_lem, ax=ax4)\n",
    "plt.title(\"Inferred, Laplace-EM\")\n",
    "\n",
    "plt.tight_layout()\n"
   ]
  },
  {
   "cell_type": "code",
   "execution_count": null,
   "metadata": {
    "vscode": {
     "languageId": "julia"
    }
   },
   "outputs": [],
   "source": [
    "\"\"\"plt.figure(figsize=(6,4))\n",
    "ax = plt.subplot(111)\n",
    "lim = abs(x).max(axis=0) + 1\n",
    "plot_most_likely_dynamics(true_rslds, xlim=(-lim[0], lim[0]), ylim=(-lim[1], lim[1]), ax=ax)\n",
    "plt.title(\"True Dynamics\")\"\"\"\n",
    "\n",
    "plt.figure(figsize=(6,4))\n",
    "ax = plt.subplot(111)\n",
    "lim = abs(xhat_lem).max(axis=0) + 1\n",
    "plot_most_likely_dynamics(rslds_lem, xlim=(-lim[0], lim[0]), ylim=(-lim[1], lim[1]), ax=ax)\n",
    "plt.title(\"Inferred Dynamics, Laplace-EM\")\n",
    "\n",
    "plt.figure(figsize=(6,4))\n",
    "ax = plt.subplot(111)\n",
    "lim = abs(xhat_bbvi).max(axis=0) + 1\n",
    "plot_most_likely_dynamics(rslds, xlim=(-lim[0], lim[0]), ylim=(-lim[1], lim[1]), ax=ax)\n",
    "plt.title(\"Inferred Dynamics, BBVI\")"
   ]
  }
 ],
 "metadata": {
  "language_info": {
   "name": "python"
  },
  "orig_nbformat": 4
 },
 "nbformat": 4,
 "nbformat_minor": 2
}
